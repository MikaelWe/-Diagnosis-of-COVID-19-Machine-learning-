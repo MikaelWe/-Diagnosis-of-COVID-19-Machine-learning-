{
 "cells": [
  {
   "cell_type": "code",
   "execution_count": 1,
   "id": "bd3e8df4-5656-4308-83c4-01f012cc78f4",
   "metadata": {},
   "outputs": [],
   "source": [
    "import numpy as np\n",
    "import pandas as pd\n",
    "import matplotlib.pyplot as plt\n",
    "from sklearn.model_selection import train_test_split, learning_curve\n",
    "from sklearn.preprocessing import StandardScaler\n",
    "from sklearn.metrics import f1_score, confusion_matrix, classification_report\n",
    "from sklearn.feature_selection import RFE\n",
    "from sklearn.linear_model import SGDClassifier\n",
    "from sklearn.ensemble import RandomForestClassifier\n",
    "from sklearn.svm import SVC\n",
    "from sklearn.pipeline import make_pipeline\n",
    "from sklearn.ensemble import IsolationForest\n"
   ]
  },
  {
   "cell_type": "markdown",
   "id": "c82dbcbb-44ce-437b-adc4-a589c855d3c7",
   "metadata": {},
   "source": [
    "# Preprocessing (removing outliers)"
   ]
  },
  {
   "cell_type": "code",
   "execution_count": 2,
   "id": "c690598d-e9f8-44f4-a583-3f8d22c0c90c",
   "metadata": {},
   "outputs": [],
   "source": [
    "covid_data = pd.read_excel(\"/Users/mikaelw/Documents/LOISIRS/Programmation/Python/Machine_learning/datasets/dataset_covid.xlsx\")"
   ]
  },
  {
   "cell_type": "code",
   "execution_count": 3,
   "id": "7fb590a5-711a-41c4-94ac-cfff08b77642",
   "metadata": {},
   "outputs": [
    {
     "data": {
      "text/html": [
       "<div>\n",
       "<style scoped>\n",
       "    .dataframe tbody tr th:only-of-type {\n",
       "        vertical-align: middle;\n",
       "    }\n",
       "\n",
       "    .dataframe tbody tr th {\n",
       "        vertical-align: top;\n",
       "    }\n",
       "\n",
       "    .dataframe thead th {\n",
       "        text-align: right;\n",
       "    }\n",
       "</style>\n",
       "<table border=\"1\" class=\"dataframe\">\n",
       "  <thead>\n",
       "    <tr style=\"text-align: right;\">\n",
       "      <th></th>\n",
       "      <th>Patient ID</th>\n",
       "      <th>Patient age quantile</th>\n",
       "      <th>SARS-Cov-2 exam result</th>\n",
       "      <th>Patient addmited to regular ward (1=yes, 0=no)</th>\n",
       "      <th>Patient addmited to semi-intensive unit (1=yes, 0=no)</th>\n",
       "      <th>Patient addmited to intensive care unit (1=yes, 0=no)</th>\n",
       "      <th>Hematocrit</th>\n",
       "      <th>Hemoglobin</th>\n",
       "      <th>Platelets</th>\n",
       "      <th>Mean platelet volume</th>\n",
       "      <th>...</th>\n",
       "      <th>Hb saturation (arterial blood gases)</th>\n",
       "      <th>pCO2 (arterial blood gas analysis)</th>\n",
       "      <th>Base excess (arterial blood gas analysis)</th>\n",
       "      <th>pH (arterial blood gas analysis)</th>\n",
       "      <th>Total CO2 (arterial blood gas analysis)</th>\n",
       "      <th>HCO3 (arterial blood gas analysis)</th>\n",
       "      <th>pO2 (arterial blood gas analysis)</th>\n",
       "      <th>Arteiral Fio2</th>\n",
       "      <th>Phosphor</th>\n",
       "      <th>ctO2 (arterial blood gas analysis)</th>\n",
       "    </tr>\n",
       "  </thead>\n",
       "  <tbody>\n",
       "    <tr>\n",
       "      <th>0</th>\n",
       "      <td>44477f75e8169d2</td>\n",
       "      <td>13</td>\n",
       "      <td>negative</td>\n",
       "      <td>0</td>\n",
       "      <td>0</td>\n",
       "      <td>0</td>\n",
       "      <td>NaN</td>\n",
       "      <td>NaN</td>\n",
       "      <td>NaN</td>\n",
       "      <td>NaN</td>\n",
       "      <td>...</td>\n",
       "      <td>NaN</td>\n",
       "      <td>NaN</td>\n",
       "      <td>NaN</td>\n",
       "      <td>NaN</td>\n",
       "      <td>NaN</td>\n",
       "      <td>NaN</td>\n",
       "      <td>NaN</td>\n",
       "      <td>NaN</td>\n",
       "      <td>NaN</td>\n",
       "      <td>NaN</td>\n",
       "    </tr>\n",
       "    <tr>\n",
       "      <th>1</th>\n",
       "      <td>126e9dd13932f68</td>\n",
       "      <td>17</td>\n",
       "      <td>negative</td>\n",
       "      <td>0</td>\n",
       "      <td>0</td>\n",
       "      <td>0</td>\n",
       "      <td>0.236515</td>\n",
       "      <td>-0.022340</td>\n",
       "      <td>-0.517413</td>\n",
       "      <td>0.010677</td>\n",
       "      <td>...</td>\n",
       "      <td>NaN</td>\n",
       "      <td>NaN</td>\n",
       "      <td>NaN</td>\n",
       "      <td>NaN</td>\n",
       "      <td>NaN</td>\n",
       "      <td>NaN</td>\n",
       "      <td>NaN</td>\n",
       "      <td>NaN</td>\n",
       "      <td>NaN</td>\n",
       "      <td>NaN</td>\n",
       "    </tr>\n",
       "    <tr>\n",
       "      <th>2</th>\n",
       "      <td>a46b4402a0e5696</td>\n",
       "      <td>8</td>\n",
       "      <td>negative</td>\n",
       "      <td>0</td>\n",
       "      <td>0</td>\n",
       "      <td>0</td>\n",
       "      <td>NaN</td>\n",
       "      <td>NaN</td>\n",
       "      <td>NaN</td>\n",
       "      <td>NaN</td>\n",
       "      <td>...</td>\n",
       "      <td>NaN</td>\n",
       "      <td>NaN</td>\n",
       "      <td>NaN</td>\n",
       "      <td>NaN</td>\n",
       "      <td>NaN</td>\n",
       "      <td>NaN</td>\n",
       "      <td>NaN</td>\n",
       "      <td>NaN</td>\n",
       "      <td>NaN</td>\n",
       "      <td>NaN</td>\n",
       "    </tr>\n",
       "    <tr>\n",
       "      <th>3</th>\n",
       "      <td>f7d619a94f97c45</td>\n",
       "      <td>5</td>\n",
       "      <td>negative</td>\n",
       "      <td>0</td>\n",
       "      <td>0</td>\n",
       "      <td>0</td>\n",
       "      <td>NaN</td>\n",
       "      <td>NaN</td>\n",
       "      <td>NaN</td>\n",
       "      <td>NaN</td>\n",
       "      <td>...</td>\n",
       "      <td>NaN</td>\n",
       "      <td>NaN</td>\n",
       "      <td>NaN</td>\n",
       "      <td>NaN</td>\n",
       "      <td>NaN</td>\n",
       "      <td>NaN</td>\n",
       "      <td>NaN</td>\n",
       "      <td>NaN</td>\n",
       "      <td>NaN</td>\n",
       "      <td>NaN</td>\n",
       "    </tr>\n",
       "    <tr>\n",
       "      <th>4</th>\n",
       "      <td>d9e41465789c2b5</td>\n",
       "      <td>15</td>\n",
       "      <td>negative</td>\n",
       "      <td>0</td>\n",
       "      <td>0</td>\n",
       "      <td>0</td>\n",
       "      <td>NaN</td>\n",
       "      <td>NaN</td>\n",
       "      <td>NaN</td>\n",
       "      <td>NaN</td>\n",
       "      <td>...</td>\n",
       "      <td>NaN</td>\n",
       "      <td>NaN</td>\n",
       "      <td>NaN</td>\n",
       "      <td>NaN</td>\n",
       "      <td>NaN</td>\n",
       "      <td>NaN</td>\n",
       "      <td>NaN</td>\n",
       "      <td>NaN</td>\n",
       "      <td>NaN</td>\n",
       "      <td>NaN</td>\n",
       "    </tr>\n",
       "    <tr>\n",
       "      <th>...</th>\n",
       "      <td>...</td>\n",
       "      <td>...</td>\n",
       "      <td>...</td>\n",
       "      <td>...</td>\n",
       "      <td>...</td>\n",
       "      <td>...</td>\n",
       "      <td>...</td>\n",
       "      <td>...</td>\n",
       "      <td>...</td>\n",
       "      <td>...</td>\n",
       "      <td>...</td>\n",
       "      <td>...</td>\n",
       "      <td>...</td>\n",
       "      <td>...</td>\n",
       "      <td>...</td>\n",
       "      <td>...</td>\n",
       "      <td>...</td>\n",
       "      <td>...</td>\n",
       "      <td>...</td>\n",
       "      <td>...</td>\n",
       "      <td>...</td>\n",
       "    </tr>\n",
       "    <tr>\n",
       "      <th>5639</th>\n",
       "      <td>ae66feb9e4dc3a0</td>\n",
       "      <td>3</td>\n",
       "      <td>positive</td>\n",
       "      <td>0</td>\n",
       "      <td>0</td>\n",
       "      <td>0</td>\n",
       "      <td>NaN</td>\n",
       "      <td>NaN</td>\n",
       "      <td>NaN</td>\n",
       "      <td>NaN</td>\n",
       "      <td>...</td>\n",
       "      <td>NaN</td>\n",
       "      <td>NaN</td>\n",
       "      <td>NaN</td>\n",
       "      <td>NaN</td>\n",
       "      <td>NaN</td>\n",
       "      <td>NaN</td>\n",
       "      <td>NaN</td>\n",
       "      <td>NaN</td>\n",
       "      <td>NaN</td>\n",
       "      <td>NaN</td>\n",
       "    </tr>\n",
       "    <tr>\n",
       "      <th>5640</th>\n",
       "      <td>517c2834024f3ea</td>\n",
       "      <td>17</td>\n",
       "      <td>negative</td>\n",
       "      <td>0</td>\n",
       "      <td>0</td>\n",
       "      <td>0</td>\n",
       "      <td>NaN</td>\n",
       "      <td>NaN</td>\n",
       "      <td>NaN</td>\n",
       "      <td>NaN</td>\n",
       "      <td>...</td>\n",
       "      <td>NaN</td>\n",
       "      <td>NaN</td>\n",
       "      <td>NaN</td>\n",
       "      <td>NaN</td>\n",
       "      <td>NaN</td>\n",
       "      <td>NaN</td>\n",
       "      <td>NaN</td>\n",
       "      <td>NaN</td>\n",
       "      <td>NaN</td>\n",
       "      <td>NaN</td>\n",
       "    </tr>\n",
       "    <tr>\n",
       "      <th>5641</th>\n",
       "      <td>5c57d6037fe266d</td>\n",
       "      <td>4</td>\n",
       "      <td>negative</td>\n",
       "      <td>0</td>\n",
       "      <td>0</td>\n",
       "      <td>0</td>\n",
       "      <td>NaN</td>\n",
       "      <td>NaN</td>\n",
       "      <td>NaN</td>\n",
       "      <td>NaN</td>\n",
       "      <td>...</td>\n",
       "      <td>NaN</td>\n",
       "      <td>NaN</td>\n",
       "      <td>NaN</td>\n",
       "      <td>NaN</td>\n",
       "      <td>NaN</td>\n",
       "      <td>NaN</td>\n",
       "      <td>NaN</td>\n",
       "      <td>NaN</td>\n",
       "      <td>NaN</td>\n",
       "      <td>NaN</td>\n",
       "    </tr>\n",
       "    <tr>\n",
       "      <th>5642</th>\n",
       "      <td>c20c44766f28291</td>\n",
       "      <td>10</td>\n",
       "      <td>negative</td>\n",
       "      <td>0</td>\n",
       "      <td>0</td>\n",
       "      <td>0</td>\n",
       "      <td>NaN</td>\n",
       "      <td>NaN</td>\n",
       "      <td>NaN</td>\n",
       "      <td>NaN</td>\n",
       "      <td>...</td>\n",
       "      <td>NaN</td>\n",
       "      <td>NaN</td>\n",
       "      <td>NaN</td>\n",
       "      <td>NaN</td>\n",
       "      <td>NaN</td>\n",
       "      <td>NaN</td>\n",
       "      <td>NaN</td>\n",
       "      <td>NaN</td>\n",
       "      <td>NaN</td>\n",
       "      <td>NaN</td>\n",
       "    </tr>\n",
       "    <tr>\n",
       "      <th>5643</th>\n",
       "      <td>2697fdccbfeb7f7</td>\n",
       "      <td>19</td>\n",
       "      <td>positive</td>\n",
       "      <td>0</td>\n",
       "      <td>0</td>\n",
       "      <td>0</td>\n",
       "      <td>0.694287</td>\n",
       "      <td>0.541564</td>\n",
       "      <td>-0.906829</td>\n",
       "      <td>-0.325903</td>\n",
       "      <td>...</td>\n",
       "      <td>NaN</td>\n",
       "      <td>NaN</td>\n",
       "      <td>NaN</td>\n",
       "      <td>NaN</td>\n",
       "      <td>NaN</td>\n",
       "      <td>NaN</td>\n",
       "      <td>NaN</td>\n",
       "      <td>NaN</td>\n",
       "      <td>NaN</td>\n",
       "      <td>NaN</td>\n",
       "    </tr>\n",
       "  </tbody>\n",
       "</table>\n",
       "<p>5644 rows × 111 columns</p>\n",
       "</div>"
      ],
      "text/plain": [
       "           Patient ID  Patient age quantile SARS-Cov-2 exam result  \\\n",
       "0     44477f75e8169d2                    13               negative   \n",
       "1     126e9dd13932f68                    17               negative   \n",
       "2     a46b4402a0e5696                     8               negative   \n",
       "3     f7d619a94f97c45                     5               negative   \n",
       "4     d9e41465789c2b5                    15               negative   \n",
       "...               ...                   ...                    ...   \n",
       "5639  ae66feb9e4dc3a0                     3               positive   \n",
       "5640  517c2834024f3ea                    17               negative   \n",
       "5641  5c57d6037fe266d                     4               negative   \n",
       "5642  c20c44766f28291                    10               negative   \n",
       "5643  2697fdccbfeb7f7                    19               positive   \n",
       "\n",
       "      Patient addmited to regular ward (1=yes, 0=no)  \\\n",
       "0                                                  0   \n",
       "1                                                  0   \n",
       "2                                                  0   \n",
       "3                                                  0   \n",
       "4                                                  0   \n",
       "...                                              ...   \n",
       "5639                                               0   \n",
       "5640                                               0   \n",
       "5641                                               0   \n",
       "5642                                               0   \n",
       "5643                                               0   \n",
       "\n",
       "      Patient addmited to semi-intensive unit (1=yes, 0=no)  \\\n",
       "0                                                     0       \n",
       "1                                                     0       \n",
       "2                                                     0       \n",
       "3                                                     0       \n",
       "4                                                     0       \n",
       "...                                                 ...       \n",
       "5639                                                  0       \n",
       "5640                                                  0       \n",
       "5641                                                  0       \n",
       "5642                                                  0       \n",
       "5643                                                  0       \n",
       "\n",
       "      Patient addmited to intensive care unit (1=yes, 0=no)  Hematocrit  \\\n",
       "0                                                     0             NaN   \n",
       "1                                                     0        0.236515   \n",
       "2                                                     0             NaN   \n",
       "3                                                     0             NaN   \n",
       "4                                                     0             NaN   \n",
       "...                                                 ...             ...   \n",
       "5639                                                  0             NaN   \n",
       "5640                                                  0             NaN   \n",
       "5641                                                  0             NaN   \n",
       "5642                                                  0             NaN   \n",
       "5643                                                  0        0.694287   \n",
       "\n",
       "      Hemoglobin  Platelets  Mean platelet volume   ...  \\\n",
       "0            NaN        NaN                    NaN  ...   \n",
       "1      -0.022340  -0.517413               0.010677  ...   \n",
       "2            NaN        NaN                    NaN  ...   \n",
       "3            NaN        NaN                    NaN  ...   \n",
       "4            NaN        NaN                    NaN  ...   \n",
       "...          ...        ...                    ...  ...   \n",
       "5639         NaN        NaN                    NaN  ...   \n",
       "5640         NaN        NaN                    NaN  ...   \n",
       "5641         NaN        NaN                    NaN  ...   \n",
       "5642         NaN        NaN                    NaN  ...   \n",
       "5643    0.541564  -0.906829              -0.325903  ...   \n",
       "\n",
       "      Hb saturation (arterial blood gases)  \\\n",
       "0                                      NaN   \n",
       "1                                      NaN   \n",
       "2                                      NaN   \n",
       "3                                      NaN   \n",
       "4                                      NaN   \n",
       "...                                    ...   \n",
       "5639                                   NaN   \n",
       "5640                                   NaN   \n",
       "5641                                   NaN   \n",
       "5642                                   NaN   \n",
       "5643                                   NaN   \n",
       "\n",
       "      pCO2 (arterial blood gas analysis)  \\\n",
       "0                                    NaN   \n",
       "1                                    NaN   \n",
       "2                                    NaN   \n",
       "3                                    NaN   \n",
       "4                                    NaN   \n",
       "...                                  ...   \n",
       "5639                                 NaN   \n",
       "5640                                 NaN   \n",
       "5641                                 NaN   \n",
       "5642                                 NaN   \n",
       "5643                                 NaN   \n",
       "\n",
       "      Base excess (arterial blood gas analysis)  \\\n",
       "0                                           NaN   \n",
       "1                                           NaN   \n",
       "2                                           NaN   \n",
       "3                                           NaN   \n",
       "4                                           NaN   \n",
       "...                                         ...   \n",
       "5639                                        NaN   \n",
       "5640                                        NaN   \n",
       "5641                                        NaN   \n",
       "5642                                        NaN   \n",
       "5643                                        NaN   \n",
       "\n",
       "      pH (arterial blood gas analysis)  \\\n",
       "0                                  NaN   \n",
       "1                                  NaN   \n",
       "2                                  NaN   \n",
       "3                                  NaN   \n",
       "4                                  NaN   \n",
       "...                                ...   \n",
       "5639                               NaN   \n",
       "5640                               NaN   \n",
       "5641                               NaN   \n",
       "5642                               NaN   \n",
       "5643                               NaN   \n",
       "\n",
       "      Total CO2 (arterial blood gas analysis)  \\\n",
       "0                                         NaN   \n",
       "1                                         NaN   \n",
       "2                                         NaN   \n",
       "3                                         NaN   \n",
       "4                                         NaN   \n",
       "...                                       ...   \n",
       "5639                                      NaN   \n",
       "5640                                      NaN   \n",
       "5641                                      NaN   \n",
       "5642                                      NaN   \n",
       "5643                                      NaN   \n",
       "\n",
       "      HCO3 (arterial blood gas analysis)  pO2 (arterial blood gas analysis)  \\\n",
       "0                                    NaN                                NaN   \n",
       "1                                    NaN                                NaN   \n",
       "2                                    NaN                                NaN   \n",
       "3                                    NaN                                NaN   \n",
       "4                                    NaN                                NaN   \n",
       "...                                  ...                                ...   \n",
       "5639                                 NaN                                NaN   \n",
       "5640                                 NaN                                NaN   \n",
       "5641                                 NaN                                NaN   \n",
       "5642                                 NaN                                NaN   \n",
       "5643                                 NaN                                NaN   \n",
       "\n",
       "      Arteiral Fio2  Phosphor  ctO2 (arterial blood gas analysis)  \n",
       "0               NaN       NaN                                 NaN  \n",
       "1               NaN       NaN                                 NaN  \n",
       "2               NaN       NaN                                 NaN  \n",
       "3               NaN       NaN                                 NaN  \n",
       "4               NaN       NaN                                 NaN  \n",
       "...             ...       ...                                 ...  \n",
       "5639            NaN       NaN                                 NaN  \n",
       "5640            NaN       NaN                                 NaN  \n",
       "5641            NaN       NaN                                 NaN  \n",
       "5642            NaN       NaN                                 NaN  \n",
       "5643            NaN       NaN                                 NaN  \n",
       "\n",
       "[5644 rows x 111 columns]"
      ]
     },
     "execution_count": 3,
     "metadata": {},
     "output_type": "execute_result"
    }
   ],
   "source": [
    "covid_data"
   ]
  },
  {
   "cell_type": "code",
   "execution_count": 4,
   "id": "73ac9d31-6b66-4957-bdfa-4e20f2ee6795",
   "metadata": {},
   "outputs": [
    {
     "data": {
      "text/plain": [
       "Index(['Patient age quantile', 'SARS-Cov-2 exam result', 'Hematocrit',\n",
       "       'Hemoglobin', 'Platelets', 'Mean platelet volume ', 'Red blood Cells',\n",
       "       'Lymphocytes', 'Mean corpuscular hemoglobin concentration (MCHC)',\n",
       "       'Leukocytes', 'Basophils', 'Mean corpuscular hemoglobin (MCH)',\n",
       "       'Eosinophils', 'Mean corpuscular volume (MCV)', 'Monocytes',\n",
       "       'Red blood cell distribution width (RDW)',\n",
       "       'Respiratory Syncytial Virus', 'Influenza A', 'Influenza B',\n",
       "       'Parainfluenza 1', 'CoronavirusNL63', 'Rhinovirus/Enterovirus',\n",
       "       'Coronavirus HKU1', 'Parainfluenza 3', 'Chlamydophila pneumoniae',\n",
       "       'Adenovirus', 'Parainfluenza 4', 'Coronavirus229E', 'CoronavirusOC43',\n",
       "       'Inf A H1N1 2009', 'Bordetella pertussis', 'Metapneumovirus',\n",
       "       'Parainfluenza 2'],\n",
       "      dtype='object')"
      ]
     },
     "execution_count": 4,
     "metadata": {},
     "output_type": "execute_result"
    }
   ],
   "source": [
    "#Elimination of columns that have more than 91% of nan values\n",
    "covid_data = covid_data[covid_data.columns[covid_data.isna().sum()/len(covid_data) < 0.90]]\n",
    "\n",
    "# Elimination of Patient Id column, 3 columns Patient addmited to ... \n",
    "covid_data = covid_data.drop([\"Patient ID\", \"Patient addmited to regular ward (1=yes, 0=no)\",\n",
    "                             \"Patient addmited to semi-intensive unit (1=yes, 0=no)\",\n",
    "                             \"Patient addmited to intensive care unit (1=yes, 0=no)\",\n",
    "                              \"Influenza B, rapid test\",\"Influenza A, rapid test\"], axis=1) \n",
    "# If Influenza rapid test is keep, a lot of nan values \"added\", already columns for infuenza tests\n",
    "covid_data.columns"
   ]
  },
  {
   "cell_type": "code",
   "execution_count": 5,
   "id": "19a2cb32-a076-44bf-bdd2-3ca7f7196a62",
   "metadata": {},
   "outputs": [],
   "source": [
    "train_set, test_set = train_test_split(covid_data, test_size=0.20, random_state=0)"
   ]
  },
  {
   "cell_type": "code",
   "execution_count": 6,
   "id": "7c6154ff-d50b-42cc-b697-e0c8ba186b18",
   "metadata": {},
   "outputs": [
    {
     "data": {
      "text/plain": [
       "negative    0.900997\n",
       "positive    0.099003\n",
       "Name: SARS-Cov-2 exam result, dtype: float64"
      ]
     },
     "execution_count": 6,
     "metadata": {},
     "output_type": "execute_result"
    }
   ],
   "source": [
    "train_set[\"SARS-Cov-2 exam result\"].value_counts(normalize=True)  # proportion similar than before train_test_split"
   ]
  },
  {
   "cell_type": "code",
   "execution_count": 7,
   "id": "2059c510-40b0-4ca9-8d54-368e405cd066",
   "metadata": {},
   "outputs": [],
   "source": [
    "# Encoding\n",
    "def encode(df): \n",
    "    encoder = {\"not_detected\": 0, \"negative\": 0, \"detected\": 1, \"positive\": 1}\n",
    "    for var in df.select_dtypes(\"object\"):\n",
    "        df.loc[:,var] = df.loc[:,var].replace(encoder)\n",
    "    return df"
   ]
  },
  {
   "cell_type": "code",
   "execution_count": 8,
   "id": "fc3ff0c0-3008-4c23-9aba-87ba60dc0d4e",
   "metadata": {},
   "outputs": [],
   "source": [
    "# Treatement of Missing values\n",
    "def treat_miss_values(df):\n",
    "    df = df.dropna(axis=0)\n",
    "    return df"
   ]
  },
  {
   "cell_type": "code",
   "execution_count": 9,
   "id": "753674a6-9979-4a58-af23-f36f20a997ee",
   "metadata": {},
   "outputs": [],
   "source": [
    "def preprocessing(df):\n",
    "    df = encode(df)\n",
    "    df = treat_miss_values(df)\n",
    "    X = df.drop(\"SARS-Cov-2 exam result\", axis = 1)\n",
    "    y = df[\"SARS-Cov-2 exam result\"]\n",
    "    return X, y"
   ]
  },
  {
   "cell_type": "code",
   "execution_count": 10,
   "id": "bebd394e-c511-4903-89a5-bf7d401ff306",
   "metadata": {},
   "outputs": [
    {
     "name": "stderr",
     "output_type": "stream",
     "text": [
      "/Users/mikaelw/opt/anaconda3/lib/python3.9/site-packages/pandas/core/indexing.py:1773: SettingWithCopyWarning: \n",
      "A value is trying to be set on a copy of a slice from a DataFrame.\n",
      "Try using .loc[row_indexer,col_indexer] = value instead\n",
      "\n",
      "See the caveats in the documentation: https://pandas.pydata.org/pandas-docs/stable/user_guide/indexing.html#returning-a-view-versus-a-copy\n",
      "  self._setitem_single_column(ilocs[0], value, pi)\n"
     ]
    },
    {
     "data": {
      "text/plain": [
       "0    54\n",
       "1    12\n",
       "Name: SARS-Cov-2 exam result, dtype: int64"
      ]
     },
     "execution_count": 10,
     "metadata": {},
     "output_type": "execute_result"
    }
   ],
   "source": [
    "X_train, y_train = preprocessing(train_set)\n",
    "X_test, y_test = preprocessing(test_set)\n",
    "y_test.value_counts()"
   ]
  },
  {
   "cell_type": "code",
   "execution_count": 11,
   "id": "dafeb36c-6562-47f8-a4c3-cf5d6d0d4962",
   "metadata": {},
   "outputs": [],
   "source": [
    "def remove_outliers(X, y):\n",
    "    iso_model = IsolationForest(contamination=0.02)  # 2% of outliers\n",
    "    X_Outliers = iso_model.fit_predict(X)\n",
    "    mask = X_Outliers != -1  # selecting all the the non outliers\n",
    "    X, y = X.iloc[mask, :], y.iloc[mask] #Very important to use iloc\n",
    "    return X, y"
   ]
  },
  {
   "cell_type": "code",
   "execution_count": 12,
   "id": "5e15a13e-d47b-4fa8-b161-2efdebd5a748",
   "metadata": {},
   "outputs": [
    {
     "data": {
      "text/plain": [
       "0    53\n",
       "1    11\n",
       "Name: SARS-Cov-2 exam result, dtype: int64"
      ]
     },
     "execution_count": 12,
     "metadata": {},
     "output_type": "execute_result"
    }
   ],
   "source": [
    "X_train, y_train = remove_outliers(X_train, y_train)\n",
    "X_test, y_test = remove_outliers(X_test, y_test)\n",
    "y_test.value_counts()"
   ]
  },
  {
   "cell_type": "code",
   "execution_count": 13,
   "id": "b832efd2-ab64-4526-86eb-f0baf8f7d88a",
   "metadata": {},
   "outputs": [],
   "source": [
    "# Use of a model to test the preprocessing stage. SVC used because efficient with small datasets \n",
    "model_a = make_pipeline(StandardScaler(), SVC(random_state=0))\n",
    "# note : Despite the dataset is already standardised, it is needed to normalize it after the train test split, because the mean and std have changed  "
   ]
  },
  {
   "cell_type": "code",
   "execution_count": 14,
   "id": "a461666d-c766-460c-8eb0-5469ec4d73a4",
   "metadata": {},
   "outputs": [],
   "source": [
    "def evaluation(model, X_train, X_test, y_train, y_test):\n",
    "    model.fit(X_train, y_train)\n",
    "    y_pred = model.predict(X_test)\n",
    "    print(classification_report(y_pred, y_test))\n",
    "    train_sizes_abs, train_scores, test_scores= learning_curve(model, X_train, y_train,\n",
    "                                                               train_sizes=np.linspace(0.2, 1, 10),\n",
    "                                                              cv=5, scoring =\"f1\")\n",
    "    plt.figure()\n",
    "    plt.plot(train_sizes_abs,train_scores.mean(axis=1), label=\"train score (f1)\")\n",
    "    plt.plot(train_sizes_abs, test_scores.mean(axis=1), label=\"test score (f1)\")\n",
    "    plt.legend()"
   ]
  },
  {
   "cell_type": "code",
   "execution_count": 15,
   "id": "170f3073-1f1d-4c47-8116-92463c12ee32",
   "metadata": {},
   "outputs": [
    {
     "name": "stdout",
     "output_type": "stream",
     "text": [
      "              precision    recall  f1-score   support\n",
      "\n",
      "           0       1.00      0.90      0.95        59\n",
      "           1       0.45      1.00      0.62         5\n",
      "\n",
      "    accuracy                           0.91        64\n",
      "   macro avg       0.73      0.95      0.79        64\n",
      "weighted avg       0.96      0.91      0.92        64\n",
      "\n"
     ]
    },
    {
     "data": {
      "image/png": "[encoded data removed]",
      "text/plain": [
       "<Figure size 432x288 with 1 Axes>"
      ]
     },
     "metadata": {
      "needs_background": "light"
     },
     "output_type": "display_data"
    }
   ],
   "source": [
    "evaluation(model_a, X_train, X_test, y_train, y_test)"
   ]
  },
  {
   "cell_type": "markdown",
   "id": "0a534e96-ccdb-4c32-9f21-c1e4b63aab20",
   "metadata": {
    "tags": []
   },
   "source": [
    "# Trying Feature selection with RFE"
   ]
  },
  {
   "cell_type": "code",
   "execution_count": 16,
   "id": "3edb8892-5188-4c0d-a2b6-d28ddc85019e",
   "metadata": {},
   "outputs": [],
   "source": [
    "#Trying Feature selection with RFE to obtain better scores"
   ]
  },
  {
   "cell_type": "code",
   "execution_count": 17,
   "id": "edb50fec-0cdf-46f2-b861-dd57e0a75b8f",
   "metadata": {},
   "outputs": [],
   "source": [
    "important_columns = [\"SARS-Cov-2 exam result\", \"Patient age quantile\"]"
   ]
  },
  {
   "cell_type": "code",
   "execution_count": 18,
   "id": "c13e79b4-22b6-4bd1-b496-4a8fa430080e",
   "metadata": {},
   "outputs": [
    {
     "data": {
      "text/plain": [
       "Index(['Platelets', 'Leukocytes', 'Eosinophils', 'Influenza B',\n",
       "       'CoronavirusNL63', 'Rhinovirus/Enterovirus', 'CoronavirusOC43',\n",
       "       'Inf A H1N1 2009', 'SARS-Cov-2 exam result', 'Patient age quantile'],\n",
       "      dtype='object')"
      ]
     },
     "execution_count": 18,
     "metadata": {},
     "output_type": "execute_result"
    }
   ],
   "source": [
    "selector = RFE(SGDClassifier(random_state=0), n_features_to_select=8)  #Tried with differents n_features_to_select\n",
    "selector.fit(X_train, y_train) \n",
    "columns_to_keep = list(X_train.columns[selector.get_support()])\n",
    "covid_data_RFEselection = covid_data[columns_to_keep + important_columns]\n",
    "covid_data_RFEselection.columns"
   ]
  },
  {
   "cell_type": "code",
   "execution_count": 19,
   "id": "5da01ed1-8de0-42df-b2d9-44822b7d6fd9",
   "metadata": {},
   "outputs": [
    {
     "name": "stderr",
     "output_type": "stream",
     "text": [
      "/Users/mikaelw/opt/anaconda3/lib/python3.9/site-packages/pandas/core/indexing.py:1773: SettingWithCopyWarning: \n",
      "A value is trying to be set on a copy of a slice from a DataFrame.\n",
      "Try using .loc[row_indexer,col_indexer] = value instead\n",
      "\n",
      "See the caveats in the documentation: https://pandas.pydata.org/pandas-docs/stable/user_guide/indexing.html#returning-a-view-versus-a-copy\n",
      "  self._setitem_single_column(ilocs[0], value, pi)\n"
     ]
    }
   ],
   "source": [
    "# Preprocessing after the RFE feature selection\n",
    "train_set_RFEs, test_set_RFEs = train_test_split(covid_data_RFEselection, test_size=0.20, random_state=0)\n",
    "X_train_RFEs, y_train_RFEs = preprocessing(train_set_RFEs)\n",
    "X_test_RFEs, y_test_RFEs = preprocessing(test_set_RFEs)"
   ]
  },
  {
   "cell_type": "code",
   "execution_count": 20,
   "id": "74957465-b0f1-498f-99b4-1cbded14c07d",
   "metadata": {},
   "outputs": [
    {
     "name": "stdout",
     "output_type": "stream",
     "text": [
      "              precision    recall  f1-score   support\n",
      "\n",
      "           0       0.96      0.88      0.92        59\n",
      "           1       0.42      0.71      0.53         7\n",
      "\n",
      "    accuracy                           0.86        66\n",
      "   macro avg       0.69      0.80      0.72        66\n",
      "weighted avg       0.91      0.86      0.88        66\n",
      "\n"
     ]
    },
    {
     "data": {
      "image/png": "[encoded data removed]",
      "text/plain": [
       "<Figure size 432x288 with 1 Axes>"
      ]
     },
     "metadata": {
      "needs_background": "light"
     },
     "output_type": "display_data"
    }
   ],
   "source": [
    "evaluation(model_a, X_train_RFEs, X_test_RFEs, y_train_RFEs, y_test_RFEs) # Scores are lower than before = > Not use RFE"
   ]
  },
  {
   "cell_type": "markdown",
   "id": "ec079223-db1b-41e6-9aac-5241e4e00098",
   "metadata": {},
   "source": [
    "# Trying Manual feature selection"
   ]
  },
  {
   "cell_type": "code",
   "execution_count": 21,
   "id": "ca2bb0de-acff-4200-83a5-8f18342b8439",
   "metadata": {},
   "outputs": [],
   "source": [
    "#Trying Manual feature selection to select only blood variables as we saw some relationships during the EDA "
   ]
  },
  {
   "cell_type": "code",
   "execution_count": 22,
   "id": "a59b8329-2a58-438f-a6ba-1abed2f61338",
   "metadata": {},
   "outputs": [],
   "source": [
    "blood_var = list(covid_data.select_dtypes('float'))\n",
    "blood_data = covid_data[blood_var + important_columns]"
   ]
  },
  {
   "cell_type": "code",
   "execution_count": 23,
   "id": "4891061e-e229-41f6-b5dd-1548091a6f32",
   "metadata": {},
   "outputs": [
    {
     "name": "stderr",
     "output_type": "stream",
     "text": [
      "/Users/mikaelw/opt/anaconda3/lib/python3.9/site-packages/pandas/core/indexing.py:1773: SettingWithCopyWarning: \n",
      "A value is trying to be set on a copy of a slice from a DataFrame.\n",
      "Try using .loc[row_indexer,col_indexer] = value instead\n",
      "\n",
      "See the caveats in the documentation: https://pandas.pydata.org/pandas-docs/stable/user_guide/indexing.html#returning-a-view-versus-a-copy\n",
      "  self._setitem_single_column(ilocs[0], value, pi)\n"
     ]
    }
   ],
   "source": [
    "# Preprocessing after the manual feature selection\n",
    "train_set_BLOODs, test_set_BLOODs = train_test_split(blood_data, test_size=0.20, random_state=0)\n",
    "X_train_BLOODs, y_train_BLOODs = preprocessing(train_set_BLOODs)\n",
    "X_test_BLOODs, y_test_BLOODs = preprocessing(test_set_BLOODs)"
   ]
  },
  {
   "cell_type": "code",
   "execution_count": 24,
   "id": "27c735b9-9f42-4676-9ead-250b69a13ce5",
   "metadata": {},
   "outputs": [
    {
     "name": "stdout",
     "output_type": "stream",
     "text": [
      "              precision    recall  f1-score   support\n",
      "\n",
      "           0       1.00      0.88      0.94       108\n",
      "           1       0.19      1.00      0.32         3\n",
      "\n",
      "    accuracy                           0.88       111\n",
      "   macro avg       0.59      0.94      0.63       111\n",
      "weighted avg       0.98      0.88      0.92       111\n",
      "\n"
     ]
    },
    {
     "data": {
      "image/png": "[encoded data removed]",
      "text/plain": [
       "<Figure size 432x288 with 1 Axes>"
      ]
     },
     "metadata": {
      "needs_background": "light"
     },
     "output_type": "display_data"
    }
   ],
   "source": [
    "evaluation(model_a, X_train_BLOODs, X_test_BLOODs, y_train_BLOODs, y_test_BLOODs) # Recall higher than before but f1 Score lower than before \n",
    "# = > We want a higher f1 score so we will choose to not use manual selection"
   ]
  },
  {
   "cell_type": "code",
   "execution_count": 25,
   "id": "3a22c7d3-4c62-4c86-87b6-2faf4111fd69",
   "metadata": {},
   "outputs": [],
   "source": [
    "#The preprocessing step is quite simple : \n",
    "#- encode virus variables (object type => float)\n",
    "#- drop all Nan values\n",
    "#- remove outliers\n",
    "\n",
    "#SVC seems to be a good model for this dataset. As it is difficult to argue that data removed is really outliers, we #will not treat outliers for the modeling part."
   ]
  }
 ],
 "metadata": {
  "kernelspec": {
   "display_name": "Python 3 (ipykernel)",
   "language": "python",
   "name": "python3"
  },
  "language_info": {
   "codemirror_mode": {
    "name": "ipython",
    "version": 3
   },
   "file_extension": ".py",
   "mimetype": "text/x-python",
   "name": "python",
   "nbconvert_exporter": "python",
   "pygments_lexer": "ipython3",
   "version": "3.9.7"
  }
 },
 "nbformat": 4,
 "nbformat_minor": 5
}
